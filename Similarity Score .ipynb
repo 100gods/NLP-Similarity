{
 "cells": [
  {
   "cell_type": "code",
   "execution_count": 1,
   "metadata": {},
   "outputs": [],
   "source": [
    "import numpy as np\n",
    "import scipy\n",
    "import nltk\n",
    "from nltk.corpus import stopwords\n",
    "from nltk.tokenize import word_tokenize \n",
    "from nltk.stem import WordNetLemmatizer"
   ]
  },
  {
   "cell_type": "code",
   "execution_count": 2,
   "metadata": {},
   "outputs": [],
   "source": [
    "#nltk.download('stopwords')\n",
    "#nltk.download('punkt')\n",
    "#nltk.download('wordnet')"
   ]
  },
  {
   "cell_type": "code",
   "execution_count": 3,
   "metadata": {},
   "outputs": [],
   "source": [
    "import re\n",
    "import string"
   ]
  },
  {
   "cell_type": "code",
   "execution_count": 4,
   "metadata": {},
   "outputs": [],
   "source": [
    "def nlp_treatment(s1):\n",
    "    s1=s1.lower()\n",
    "    result = re.sub(r'\\d+', '', s1)\n",
    "    translator = str.maketrans('', '', string.punctuation)\n",
    "    result = result.translate(translator)\n",
    "    result=result.strip()\n",
    "    #print(\"post number, punctuation,space removal ={0}\".format(result))\n",
    "    return result"
   ]
  },
  {
   "cell_type": "code",
   "execution_count": 5,
   "metadata": {},
   "outputs": [],
   "source": [
    "def remove_stop_words(s1):\n",
    "    stop_words=set(stopwords.words('english'))\n",
    "    word_tokens = word_tokenize(s1)\n",
    "    filtered_sentence = [w for w in word_tokens if not w in stop_words]\n",
    "    #print('post stop word removal ={0}'.format(filtered_sentence))\n",
    "    return filtered_sentence"
   ]
  },
  {
   "cell_type": "code",
   "execution_count": 6,
   "metadata": {},
   "outputs": [],
   "source": [
    "def lemiatize(s1):\n",
    "    lemmatizer = WordNetLemmatizer()\n",
    "    lem_words=[lemmatizer.lemmatize(w) for w in s1]\n",
    "    #print('post lematize = {0}'.format(lem_words))\n",
    "    return lem_words"
   ]
  },
  {
   "cell_type": "code",
   "execution_count": 7,
   "metadata": {},
   "outputs": [],
   "source": [
    "def preprocess(s1):\n",
    "    s1=nlp_treatment(s1)\n",
    "    s1=remove_stop_words(s1)\n",
    "    s1=lemiatize(s1)\n",
    "    return s1"
   ]
  },
  {
   "cell_type": "code",
   "execution_count": 19,
   "metadata": {},
   "outputs": [],
   "source": [
    "def loadGloveModel(gloveFile):\n",
    "    print(\"Loading Model . . . . . . . . . . . . . . . . . . . . . . . . . . . . . . . .\")\n",
    "    f = open(gloveFile,'r', encoding=\"utf8\")\n",
    "    model = {}\n",
    "    counter = 0\n",
    "    for line in f:\n",
    "        counter+=1\n",
    "        try:\n",
    "            splitLine = line.split()\n",
    "            word = splitLine[0]\n",
    "            embedding = np.array([float(val) for val in splitLine[1:]])\n",
    "            model[word] = embedding\n",
    "        except Exception as e:\n",
    "            continue\n",
    "#             print('error = {0}, input = {1}'.format(e,line))\n",
    "        if counter % 100000 == 0 :\n",
    "            print(\"Done.\",len(model),\" words loaded . . . . . . . . . . . . . . . . . . . . . . . . . . . . . . . .\")\n",
    "    print(\"Done.\",len(model),\" words loaded!\")\n",
    "    return model"
   ]
  },
  {
   "cell_type": "code",
   "execution_count": 16,
   "metadata": {},
   "outputs": [],
   "source": [
    "def cosine_distance_wordembedding_method(model,s1, s2):\n",
    "    vector_1 = np.mean([model[word] for word in preprocess(s1)],axis=0)\n",
    "    vector_2 = np.mean([model[word] for word in preprocess(s2)],axis=0)\n",
    "    cosine = scipy.spatial.distance.cosine(vector_1, vector_2)\n",
    "    print('--------------------------------------------------------------')\n",
    "    print('Score',round((1-cosine)*100,2),'%')\n",
    "    print('--------------------------------------------------------------')"
   ]
  },
  {
   "cell_type": "code",
   "execution_count": 17,
   "metadata": {},
   "outputs": [],
   "source": [
    "def find_sim(model):\n",
    "    print('------------------------------- Enter Senetence one -------------------------------')\n",
    "    sen_1=input()\n",
    "    print('------------------------------- Enter Senetence two -------------------------------')\n",
    "    sen_2=input()\n",
    "    cosine_distance_wordembedding_method(model,sen_1,sen_2)"
   ]
  },
  {
   "cell_type": "code",
   "execution_count": null,
   "metadata": {},
   "outputs": [
    {
     "name": "stdout",
     "output_type": "stream",
     "text": [
      "Loading Glove Model . . . . . . . . . . . . . . . . . . . . . . . . . . . . . . . .\n",
      "Done. 99996  words loaded . . . . . . . . . . . . . . . . . . . . . . . . . . . . . . . .\n",
      "Done. 199992  words loaded . . . . . . . . . . . . . . . . . . . . . . . . . . . . . . . .\n",
      "Done. 299981  words loaded . . . . . . . . . . . . . . . . . . . . . . . . . . . . . . . .\n",
      "Done. 399975  words loaded . . . . . . . . . . . . . . . . . . . . . . . . . . . . . . . .\n",
      "Done. 499973  words loaded . . . . . . . . . . . . . . . . . . . . . . . . . . . . . . . .\n",
      "Done. 599967  words loaded . . . . . . . . . . . . . . . . . . . . . . . . . . . . . . . .\n",
      "Done. 699964  words loaded . . . . . . . . . . . . . . . . . . . . . . . . . . . . . . . .\n",
      "Done. 799959  words loaded . . . . . . . . . . . . . . . . . . . . . . . . . . . . . . . .\n",
      "Done. 899954  words loaded . . . . . . . . . . . . . . . . . . . . . . . . . . . . . . . .\n",
      "Done. 999944  words loaded . . . . . . . . . . . . . . . . . . . . . . . . . . . . . . . .\n",
      "Done. 1099938  words loaded . . . . . . . . . . . . . . . . . . . . . . . . . . . . . . . .\n",
      "Done. 1199931  words loaded . . . . . . . . . . . . . . . . . . . . . . . . . . . . . . . .\n",
      "Done. 1299924  words loaded . . . . . . . . . . . . . . . . . . . . . . . . . . . . . . . .\n",
      "Done. 1399919  words loaded . . . . . . . . . . . . . . . . . . . . . . . . . . . . . . . .\n",
      "Done. 1499913  words loaded . . . . . . . . . . . . . . . . . . . . . . . . . . . . . . . .\n",
      "Done. 1599910  words loaded . . . . . . . . . . . . . . . . . . . . . . . . . . . . . . . .\n",
      "Done. 1699903  words loaded . . . . . . . . . . . . . . . . . . . . . . . . . . . . . . . .\n",
      "Done. 1799897  words loaded . . . . . . . . . . . . . . . . . . . . . . . . . . . . . . . .\n",
      "Done. 1899893  words loaded . . . . . . . . . . . . . . . . . . . . . . . . . . . . . . . .\n",
      "Done. 1999885  words loaded . . . . . . . . . . . . . . . . . . . . . . . . . . . . . . . .\n",
      "Done. 2099878  words loaded . . . . . . . . . . . . . . . . . . . . . . . . . . . . . . . .\n",
      "Done. 2195885  words loaded!\n",
      " Enter q to Quite \n",
      " Any key to Continue\n",
      "d\n",
      "------------------------------- Enter Senetence one -------------------------------\n",
      "The organization and/or business unit  protects log information against unauthorized access and tampering. \n",
      "------------------------------- Enter Senetence two -------------------------------\n",
      "Organization has policy to protect information from unauthorized access or tampering of log\n",
      "--------------------------------------------------------------\n",
      "Score 94.86 %\n",
      "--------------------------------------------------------------\n",
      " Enter q to Quite \n",
      " Any key to Continue\n",
      "1\n",
      "------------------------------- Enter Senetence one -------------------------------\n",
      "Organization has policy to protect information from unauthorized access or tampering of log\n",
      "------------------------------- Enter Senetence two -------------------------------\n",
      "Organization reviews security events and logs on a periodic basis to identify any potential security breach.\n",
      "--------------------------------------------------------------\n",
      "Score 83.91 %\n",
      "--------------------------------------------------------------\n",
      " Enter q to Quite \n",
      " Any key to Continue\n",
      "1\n",
      "------------------------------- Enter Senetence one -------------------------------\n",
      "Organization has policy to protect information from unauthorized access or tampering of log\n",
      "------------------------------- Enter Senetence two -------------------------------\n",
      "The organization employs automated mechanisms to integrate audit review, analysis, and reporting processes to support organizational processes for investigation and response to suspicious activities.\n",
      "--------------------------------------------------------------\n",
      "Score 75.75 %\n",
      "--------------------------------------------------------------\n",
      " Enter q to Quite \n",
      " Any key to Continue\n"
     ]
    }
   ],
   "source": [
    "if __name__ == '__main__':\n",
    "    glove_path='D:\\work\\GolVe\\glove.840B.300d\\glove.840B.300d.txt'\n",
    "    model=loadGloveModel(glove_path)\n",
    "    print(' Enter q to Quite \\n Any key to Continue')\n",
    "    control=input()\n",
    "    while( control.upper() != 'Q' ):\n",
    "        find_sim(model)\n",
    "        print(' Enter q to Quite \\n Any key to Continue')\n",
    "        control=input()"
   ]
  },
  {
   "cell_type": "code",
   "execution_count": null,
   "metadata": {},
   "outputs": [],
   "source": []
  }
 ],
 "metadata": {
  "kernelspec": {
   "display_name": "Python 3",
   "language": "python",
   "name": "python3"
  },
  "language_info": {
   "codemirror_mode": {
    "name": "ipython",
    "version": 3
   },
   "file_extension": ".py",
   "mimetype": "text/x-python",
   "name": "python",
   "nbconvert_exporter": "python",
   "pygments_lexer": "ipython3",
   "version": "3.7.1"
  }
 },
 "nbformat": 4,
 "nbformat_minor": 2
}
